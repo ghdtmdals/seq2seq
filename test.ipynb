{
 "cells": [
  {
   "cell_type": "code",
   "execution_count": 1,
   "metadata": {},
   "outputs": [],
   "source": [
    "import pandas as pd\n",
    "import json\n",
    "from collections import OrderedDict\n",
    "from tqdm import tqdm\n",
    "from torchtext.data.utils import get_tokenizer"
   ]
  },
  {
   "cell_type": "code",
   "execution_count": 2,
   "metadata": {},
   "outputs": [],
   "source": [
    "tokenizer = get_tokenizer(\"basic_english\")"
   ]
  },
  {
   "cell_type": "code",
   "execution_count": 20,
   "metadata": {},
   "outputs": [
    {
     "name": "stderr",
     "output_type": "stream",
     "text": [
      " 10%|█         | 1/10 [00:12<01:54, 12.67s/it]/opt/conda/lib/python3.10/site-packages/openpyxl/styles/stylesheet.py:226: UserWarning: Workbook contains no default style, apply openpyxl's default\n",
      "  warn(\"Workbook contains no default style, apply openpyxl's default\")\n",
      " 70%|███████   | 7/10 [02:22<01:15, 25.20s/it]/opt/conda/lib/python3.10/site-packages/openpyxl/styles/stylesheet.py:226: UserWarning: Workbook contains no default style, apply openpyxl's default\n",
      "  warn(\"Workbook contains no default style, apply openpyxl's default\")\n",
      " 80%|████████  | 8/10 [02:30<00:39, 19.66s/it]/opt/conda/lib/python3.10/site-packages/openpyxl/styles/stylesheet.py:226: UserWarning: Workbook contains no default style, apply openpyxl's default\n",
      "  warn(\"Workbook contains no default style, apply openpyxl's default\")\n",
      " 90%|█████████ | 9/10 [02:40<00:16, 16.57s/it]/opt/conda/lib/python3.10/site-packages/openpyxl/styles/stylesheet.py:226: UserWarning: Workbook contains no default style, apply openpyxl's default\n",
      "  warn(\"Workbook contains no default style, apply openpyxl's default\")\n",
      "100%|██████████| 10/10 [02:48<00:00, 16.86s/it]\n"
     ]
    }
   ],
   "source": [
    "file_names = [\"./dataset/1_구어체(1).xlsx\", \"./dataset/1_구어체(2).xlsx\", \"./dataset/2_대화체.xlsx\", \"./dataset/3_문어제_뉴스(1).xlsx\", \"./dataset/3_문어체_뉴스(2).xlsx\",\n",
    "              \"./dataset/3_문어체_뉴스(3).xlsx\", \"./dataset/3_문어체_뉴스(4).xlsx\", \"./dataset/4_문어체_한국문화.xlsx\", \"./dataset/5_문어체_조례.xlsx\",\n",
    "              \"./dataset/6_문어체_지자체웹사이트.xlsx\"]\n",
    "\n",
    "file_data = OrderedDict()\n",
    "ids = 0\n",
    "for file_name in tqdm(file_names):\n",
    "    temp_data = pd.read_excel(file_name)\n",
    "    for j in range(len(temp_data)):\n",
    "        file_data[ids] = {\"file_name\": file_name, \"ID\": j, \"korean\": temp_data[\"원문\"][j], \"english\": temp_data[\"번역문\"][j]}\n",
    "        ids += 1"
   ]
  },
  {
   "cell_type": "code",
   "execution_count": 21,
   "metadata": {},
   "outputs": [],
   "source": [
    "with open(\"./dataset/korean_english_dataset.json\", \"w\") as f:\n",
    "    json.dump(file_data, f)"
   ]
  },
  {
   "cell_type": "code",
   "execution_count": 27,
   "metadata": {},
   "outputs": [],
   "source": [
    "with open(\"./dataset/korean_english_dataset.json\", \"r\") as f:\n",
    "    test_load = json.load(f)"
   ]
  }
 ],
 "metadata": {
  "kernelspec": {
   "display_name": "base",
   "language": "python",
   "name": "python3"
  },
  "language_info": {
   "codemirror_mode": {
    "name": "ipython",
    "version": 3
   },
   "file_extension": ".py",
   "mimetype": "text/x-python",
   "name": "python",
   "nbconvert_exporter": "python",
   "pygments_lexer": "ipython3",
   "version": "3.10.13"
  }
 },
 "nbformat": 4,
 "nbformat_minor": 2
}
